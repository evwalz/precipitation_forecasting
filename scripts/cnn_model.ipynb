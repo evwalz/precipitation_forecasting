{
 "cells": [
  {
   "cell_type": "code",
   "execution_count": 11,
   "id": "21c78d12-ac6c-4e2f-ab59-b02fa0a7e2bf",
   "metadata": {},
   "outputs": [],
   "source": [
    "import numpy as np\n",
    "import xarray as xr\n",
    "import isodisreg \n",
    "from isodisreg import idr\n",
    "import pandas as pd\n",
    "from helpers import *"
   ]
  },
  {
   "cell_type": "code",
   "execution_count": 12,
   "id": "8397218b-e6ed-4721-a9fc-0a281dd71fee",
   "metadata": {},
   "outputs": [],
   "source": [
    "feature_set = 'v2+time'\n",
    "season = 'JAS'"
   ]
  },
  {
   "cell_type": "code",
   "execution_count": 13,
   "id": "e77961d0-60eb-4830-bda2-43e6b800dc52",
   "metadata": {},
   "outputs": [],
   "source": [
    "data_dir = \"../precip_data\"\n",
    "data_save = data_dir + '/results/'\n",
    "lsm = np.loadtxt(data_dir  + \"/lsm.txt\")"
   ]
  },
  {
   "cell_type": "code",
   "execution_count": 14,
   "id": "38b1cf5c-9135-4748-9a3c-5fcf7e7ed851",
   "metadata": {},
   "outputs": [],
   "source": [
    "folds = np.arange(9)\n",
    "bs_fold = np.zeros(len(folds))\n",
    "crps_fold = np.zeros(len(folds))"
   ]
  },
  {
   "cell_type": "markdown",
   "id": "a9ce0803-05bd-4420-a470-7aa65fe94904",
   "metadata": {},
   "source": [
    "# CNN model"
   ]
  },
  {
   "cell_type": "code",
   "execution_count": 5,
   "id": "bbd68091-37c1-494b-bbcc-0176fd26963e",
   "metadata": {},
   "outputs": [],
   "source": [
    "for fold in folds:\n",
    "    val_preds = xr.open_dataset(data_dir + '/forecasts/cnn_fct/subset_val_preds_'+str(feature_set)+'_fold'+str(fold)+'.nc')\n",
    "    val_tar = xr.open_dataset(data_dir + '/forecasts/cnn_fct/subset_val_target_'+str(feature_set)+'_fold'+str(fold)+'.nc')\n",
    "    train_prds = xr.open_dataset(data_dir + '/forecasts/cnn_fct/subset_train_preds_'+str(feature_set)+'_fold'+str(fold)+'.nc')\n",
    "    train_tar = xr.open_dataset(data_dir + '/forecasts/cnn_fct/subset_train_target_'+str(feature_set)+'_fold'+str(fold)+'.nc')\n",
    "\n",
    "    crps_cv = np.zeros((19, 61))\n",
    "    bs_cv = np.zeros((19, 61))\n",
    "\n",
    "    year_dim = val_tar.dims['time']\n",
    "    ix0, ix1 = sel_season_indx(season, year_dim)\n",
    "\n",
    "    for lat in range(19):\n",
    "        for lon in np.arange(-25, 35.5):\n",
    "            i = int(lat)\n",
    "            j = int(lon + 25)\n",
    "            if lsm[i, j] != 0:\n",
    "                train_fct = train_prds.sel(lat = lat, lon = lon).train_preds.values\n",
    "                train_obs = train_tar.sel(lat = lat, lon = lon).train_tar.values\n",
    "                val_fct = val_preds.sel(lat = lat, lon = lon).val_preds.values[ix0:ix1]\n",
    "                val_obs = val_tar.sel(lat = lat, lon = lon).val_tar.values[ix0:ix1]\n",
    "                idr_output = idr(train_obs, pd.DataFrame({'fore': train_fct}, columns = ['fore']))\n",
    "                pred_idr = idr_output.predict(pd.DataFrame({'fore': val_fct}, columns = ['fore']))\n",
    "                crps_cv[i,j] = np.mean(pred_idr.crps(val_obs))\n",
    "                bs_cv[i,j] = np.mean(pred_idr.bscore(thresholds = 0.2, y = val_obs))\n",
    "            else:\n",
    "                crps_cv[i,j] = np.nan\n",
    "                bs_cv[i,j] = np.nan\n",
    "\n",
    "    bs_fold[fold] = np.nanmean(bs_cv)\n",
    "    crps_fold[fold] = np.nanmean(crps_cv)\n",
    "\n",
    "np.savetxt(data_save +  'cnn_crps_'+ str(feature_set)+   '_' + season + '.txt', crps_fold)\n",
    "np.savetxt(data_save +  'cnn_bs_'+ str(feature_set)+  '_' + season + '.txt', bs_fold)"
   ]
  },
  {
   "cell_type": "code",
   "execution_count": 6,
   "id": "908b634e-349a-4f94-b9a6-b4453359a444",
   "metadata": {},
   "outputs": [
    {
     "data": {
      "text/plain": [
       "array([2.91792025, 3.03324061, 2.74807059, 2.76811912, 2.74798613,\n",
       "       2.8035649 , 2.67704742, 2.87727204, 2.85275223])"
      ]
     },
     "execution_count": 6,
     "metadata": {},
     "output_type": "execute_result"
    }
   ],
   "source": [
    "crps_fold"
   ]
  },
  {
   "cell_type": "code",
   "execution_count": 7,
   "id": "b863282a-7b87-4090-8fe2-2afa57fc3519",
   "metadata": {},
   "outputs": [
    {
     "data": {
      "text/plain": [
       "array([0.12969351, 0.11999359, 0.13019998, 0.12519427, 0.13408735,\n",
       "       0.11823619, 0.12017427, 0.11808887, 0.11527252])"
      ]
     },
     "execution_count": 7,
     "metadata": {},
     "output_type": "execute_result"
    }
   ],
   "source": [
    "bs_fold"
   ]
  },
  {
   "cell_type": "markdown",
   "id": "e34c8580-23fd-4640-b9f0-6aaaaea17285",
   "metadata": {},
   "source": [
    "# Hybrid model: CNN + HRES "
   ]
  },
  {
   "cell_type": "code",
   "execution_count": 15,
   "id": "84d2c6a7-e4e6-47ed-88e9-3afc2ff83d77",
   "metadata": {},
   "outputs": [],
   "source": [
    "import xarray as xr\n",
    "hres_data =  xr.open_dataset(data_dir + '/forecasts/hres_fct/HRES24_multi1000_precip_init00_66_reconcut_years_2001_2019.nc')"
   ]
  },
  {
   "cell_type": "code",
   "execution_count": 16,
   "id": "b7c3ae0e-442e-402e-ba32-64b6aeb82411",
   "metadata": {},
   "outputs": [],
   "source": [
    "def cscore(preds_average, grid_test_cv, grid_idr, mean = True):\n",
    "    c_score = list()\n",
    "    for j in range(preds_average.shape[0]):\n",
    "                    # x = preds.predictions[i].points\n",
    "        y = grid_test_cv[j]\n",
    "        x = grid_idr\n",
    "                    # p = preds.cdf(x)[i, :]\n",
    "        p = preds_average[j, :]\n",
    "                    # p = preds.cdf(x)[i, :]\n",
    "                    # p  = preds.predictions[i].ecdf\n",
    "        w = np.hstack([p[0], np.diff(p)])\n",
    "        c_score.append(2 * np.sum(w * (np.array((y < x)) - p + 0.5 * w) * np.array(x - y)))\n",
    "    if mean:\n",
    "        return np.mean(np.asarray(c_score))\n",
    "    else:\n",
    "        return np.asarray(c_score)"
   ]
  },
  {
   "cell_type": "code",
   "execution_count": 17,
   "id": "5779ae3c-9c21-45e4-a81b-6df4c3cdf478",
   "metadata": {},
   "outputs": [
    {
     "name": "stdout",
     "output_type": "stream",
     "text": [
      "0\n",
      "1\n",
      "2\n",
      "3\n",
      "4\n",
      "5\n",
      "6\n",
      "7\n",
      "8\n"
     ]
    }
   ],
   "source": [
    "\n",
    "for fold in folds:\n",
    "    print(fold)\n",
    "    #val_preds = xr.open_dataset('/Volumes/My Passport for Mac/precip/model_results/cnn/fct/val_preds_'+str(feature_set)+'_fold'+str(fold)+'.nc')\n",
    "    #val_tar = xr.open_dataset('/Volumes/My Passport for Mac/precip/model_results/cnn/fct/val_target_'+str(feature_set)+'_fold'+str(fold)+'.nc')\n",
    "    #train_prds = xr.open_dataset('/Volumes/My Passport for Mac/precip/model_results/cnn/fct/train_preds_'+str(feature_set)+'_fold'+str(fold)+'.nc')\n",
    "    #train_tar = xr.open_dataset('/Volumes/My Passport for Mac/precip/model_results/cnn/fct/train_target_'+str(feature_set)+'_fold'+str(fold)+'.nc') #ytrain = load_obs(data_dir, fold, mode = \"train\")\n",
    "    val_preds = xr.open_dataset(data_dir + '/forecasts/cnn_fct/subset_val_preds_'+str(feature_set)+'_fold'+str(fold)+'.nc')\n",
    "    val_tar = xr.open_dataset(data_dir + '/forecasts/cnn_fct/subset_val_target_'+str(feature_set)+'_fold'+str(fold)+'.nc')\n",
    "    train_prds = xr.open_dataset(data_dir + '/forecasts/cnn_fct/subset_train_preds_'+str(feature_set)+'_fold'+str(fold)+'.nc')\n",
    "    train_tar = xr.open_dataset(data_dir + '/forecasts/cnn_fct/subset_train_target_'+str(feature_set)+'_fold'+str(fold)+'.nc')\n",
    "    #if fold == 8:\n",
    "    #    yval = load_obs(data_dir, fold, mode = \"test\")\n",
    "    #else:\n",
    "    #    yval = load_obs(data_dir, fold, mode = \"val\")\n",
    "    \n",
    "    year = fold +11\n",
    "    #date_train = pd.date_range(start='04/02/2001T06', end ='12/01/20'+str(year-1)+'T06') - pd.Timedelta(hours = 6)\n",
    "\n",
    "    date_train, date_test = hres_season_time(season, year)\n",
    "    hres_data_train = hres_data.sel(time = date_train)\n",
    "    hres_data_test = hres_data.sel(time = date_test)\n",
    "    \n",
    "    crps_cv = np.zeros((19, 61))\n",
    "    bs_cv = np.zeros((19, 61))\n",
    "\n",
    "    year_dim = val_tar.dims['time']\n",
    "    ix0, ix1 = sel_season_indx(season, year_dim)\n",
    "\n",
    "    for lat in range(19):\n",
    "        for lon in np.arange(-25, 35.5):\n",
    "            i = int(lat)\n",
    "            j = int(lon + 25)\n",
    "            if lsm[i, j] != 0:\n",
    "                train_fct = train_prds.sel(lat = lat, lon = lon).train_preds.values\n",
    "                train_obs = train_tar.sel(lat = lat, lon = lon).train_tar.values\n",
    "                val_fct = val_preds.sel(lat = lat, lon = lon).val_preds.values[ix0:ix1]\n",
    "                val_obs = val_tar.sel(lat = lat, lon = lon).val_tar.values[ix0:ix1]\n",
    "\n",
    "                train_hres = hres_data_train.sel(lat = lat, lon = lon).lsp.values\n",
    "                val_hres = hres_data_test.sel(lat = lat, lon = lon).lsp.values\n",
    "                train_ix0 = len(train_obs) - len(train_hres)\n",
    "                \n",
    "                \n",
    "                idr_output = idr(train_obs, pd.DataFrame({'fore': train_fct}, columns = ['fore']))\n",
    "                pred_idr = idr_output.predict(pd.DataFrame({'fore': val_fct}, columns = ['fore']))\n",
    "                \n",
    "                idr_output2 = idr(train_obs[train_ix0:], pd.DataFrame({'fore': train_hres}, columns = ['fore']))\n",
    "                pred_idr2 = idr_output2.predict(pd.DataFrame({'fore': val_hres}, columns = ['fore']))\n",
    "                \n",
    "                grid_idr = np.sort(np.unique(train_obs))\n",
    "                preds_average = 0.5*(pred_idr.cdf(grid_idr) + pred_idr2.cdf(grid_idr))\n",
    "                p0 = 0.5*(pred_idr.cdf(0.2) + pred_idr2.cdf(0.2))\n",
    "                \n",
    "                crps_cv[i,j] = cscore(preds_average, val_obs, grid_idr, mean = True)\n",
    "                val_obs_bin = val_obs > 0.2\n",
    "                bs_cv[i,j] = np.mean(((1-p0) - val_obs_bin)**2)\n",
    "            else:\n",
    "                crps_cv[i,j] = np.nan\n",
    "                bs_cv[i,j] = np.nan\n",
    "\n",
    "    bs_fold[fold] = np.nanmean(bs_cv)\n",
    "    crps_fold[fold] = np.nanmean(crps_cv)\n",
    "    \n",
    "np.savetxt(data_save +  'hybrid_crps_'+ str(feature_set)+   '_' + season + '.txt', crps_fold)\n",
    "np.savetxt(data_save +  'hybrid_bs_'+ str(feature_set)+  '_' + season + '.txt', bs_fold)"
   ]
  },
  {
   "cell_type": "code",
   "execution_count": null,
   "id": "f26a4fab-c006-4257-b180-4b61977b0c99",
   "metadata": {},
   "outputs": [],
   "source": []
  }
 ],
 "metadata": {
  "kernelspec": {
   "display_name": "py38",
   "language": "python",
   "name": "py38"
  },
  "language_info": {
   "codemirror_mode": {
    "name": "ipython",
    "version": 3
   },
   "file_extension": ".py",
   "mimetype": "text/x-python",
   "name": "python",
   "nbconvert_exporter": "python",
   "pygments_lexer": "ipython3",
   "version": "3.8.5"
  }
 },
 "nbformat": 4,
 "nbformat_minor": 5
}
