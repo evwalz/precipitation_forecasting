{
 "cells": [
  {
   "cell_type": "code",
   "execution_count": null,
   "id": "2309fc4b-3d9c-43a6-9a2b-45d3993c18ef",
   "metadata": {},
   "outputs": [],
   "source": [
    "# Add your API key to the ~/.cdsapirc file on your computer in the following format:\n",
    "# url: https://cds.climate.copernicus.eu/api/v2\n",
    "# key: <your_uid>:<your_api_key>"
   ]
  },
  {
   "cell_type": "code",
   "execution_count": 1,
   "id": "60a4adcc-73b7-4164-b2fc-a63f92b1a77d",
   "metadata": {},
   "outputs": [],
   "source": [
    "data_dir = '/Users/eva/Documents/Work/promotion/precip/update_github/era5_data/'"
   ]
  },
  {
   "cell_type": "code",
   "execution_count": 5,
   "id": "9e26c013-6f72-4d46-b9a6-a92dbceb085e",
   "metadata": {},
   "outputs": [],
   "source": [
    "# Import the necessary library\n",
    "import cdsapi\n",
    "# List of single-level variables\n",
    "single_level_vars = [\n",
    "    'total_column_water_vapor',                # TCWV\n",
    "    'vertically_integrated_moisture_divergence',  # VIMD\n",
    "    'total_column_cloud_liquid_water',         # TCLW\n",
    "    'total_cloud_cover',                       # TCC\n",
    "    'convective_available_potential_energy',   # CAPE\n",
    "    'convective_inhibition',                   # CIN\n",
    "    'k_index',                                 # KX\n",
    "    '2m_temperature',                          # T2\n",
    "    '2m_dewpoint_temperature'                 # D2\n",
    "]"
   ]
  },
  {
   "cell_type": "code",
   "execution_count": 6,
   "id": "151bcaeb-c3cf-4583-bce6-5a6519365179",
   "metadata": {},
   "outputs": [
    {
     "name": "stderr",
     "output_type": "stream",
     "text": [
      "2024-12-04 08:25:32,381 INFO [2024-09-28T00:00:00] **Welcome to the New Climate Data Store (CDS)!** This new system is in its early days of full operations and still undergoing enhancements and fine tuning. Some disruptions are to be expected. Your \n",
      "[feedback](https://jira.ecmwf.int/plugins/servlet/desk/portal/1/create/202) is key to improve the user experience on the new CDS for the benefit of everyone. Thank you.\n",
      "2024-12-04 08:25:32,382 INFO [2024-09-26T00:00:00] Watch our [Forum](https://forum.ecmwf.int/) for Announcements, news and other discussed topics.\n",
      "2024-12-04 08:25:32,383 INFO [2024-09-16T00:00:00] Remember that you need to have an ECMWF account to use the new CDS. **Your old CDS credentials will not work in new CDS!**\n",
      "2024-12-04 08:25:32,383 WARNING [2024-06-16T00:00:00] CDS API syntax is changed and some keys or parameter names may have also changed. To avoid requests failing, please use the \"Show API request code\" tool on the dataset Download Form to check you are using the correct syntax for your API request.\n",
      "2024-12-04 08:25:33,341 WARNING [2024-10-10T00:00:00] The final validated ERA5 differs from ERA5T from July 2024 until further notice - please refer to our\n",
      "[Forum announcement](https://forum.ecmwf.int/t/final-validated-era5-product-to-differ-from-era5t-in-july-2024/6685)\n",
      "for details and watch it for further updates on this.\n",
      "2024-12-04 08:25:33,342 INFO Request ID is be96614f-4188-45db-9749-74fc3850fa18\n",
      "2024-12-04 08:25:33,523 INFO status has been updated to accepted\n",
      "2024-12-04 08:25:40,879 INFO status has been updated to running\n",
      "2024-12-04 08:42:08,336 INFO status has been updated to successful\n"
     ]
    },
    {
     "data": {
      "application/vnd.jupyter.widget-view+json": {
       "model_id": "",
       "version_major": 2,
       "version_minor": 0
      },
      "text/plain": [
       "HBox(children=(HTML(value='eb6367dfb64b18bf44e2d302d5c56dc3.nc'), FloatProgress(value=0.0, max=291625642.0), H…"
      ]
     },
     "metadata": {},
     "output_type": "display_data"
    },
    {
     "name": "stdout",
     "output_type": "stream",
     "text": [
      "k_index download completed!\n"
     ]
    },
    {
     "name": "stderr",
     "output_type": "stream",
     "text": [
      "2024-12-04 08:43:03,188 WARNING [2024-10-10T00:00:00] The final validated ERA5 differs from ERA5T from July 2024 until further notice - please refer to our\n",
      "[Forum announcement](https://forum.ecmwf.int/t/final-validated-era5-product-to-differ-from-era5t-in-july-2024/6685)\n",
      "for details and watch it for further updates on this.\n",
      "2024-12-04 08:43:03,189 INFO Request ID is 998be168-a350-4fe7-a9aa-ef6229bb7883\n",
      "2024-12-04 08:43:03,376 INFO status has been updated to accepted\n",
      "2024-12-04 08:43:09,037 INFO status has been updated to running\n",
      "2024-12-04 08:57:31,945 INFO status has been updated to successful\n"
     ]
    },
    {
     "data": {
      "application/vnd.jupyter.widget-view+json": {
       "model_id": "",
       "version_major": 2,
       "version_minor": 0
      },
      "text/plain": [
       "HBox(children=(HTML(value='3eadf7b00d291fcc7fdc9d67cdcdd9e6.nc'), FloatProgress(value=0.0, max=229416745.0), H…"
      ]
     },
     "metadata": {},
     "output_type": "display_data"
    },
    {
     "name": "stdout",
     "output_type": "stream",
     "text": [
      "2m_temperature download completed!\n"
     ]
    }
   ],
   "source": [
    "# Install the cdsapi library (if not already installed)\n",
    "#!pip install cdsapi\n",
    "\n",
    "# Import the necessary library\n",
    "import cdsapi\n",
    "\n",
    "# Create a CDS API client\n",
    "c = cdsapi.Client()\n",
    "\n",
    "for variable in single_level_vars:\n",
    "    # area = [18, -25, 0, 35]\n",
    "    area = [20, -27, -2, 37]\n",
    "\n",
    "    # Request ERA5 data\n",
    "    c.retrieve(\n",
    "        'reanalysis-era5-single-levels',  # ERA5 single-level data\n",
    "        {\n",
    "        'product_type': 'reanalysis',          # Reanalysis data\n",
    "        'variable': variable,         # Variable: 2m temperature\n",
    "        \"year\": [\n",
    "        \"2000\", \"2001\", \"2002\",\n",
    "        \"2003\", \"2004\", \"2005\",\n",
    "        \"2006\", \"2007\", \"2008\",\n",
    "        \"2009\", \"2010\", \"2011\",\n",
    "        \"2012\", \"2013\", \"2014\",\n",
    "        \"2015\", \"2016\", \"2017\",\n",
    "        \"2018\", \"2019\"\n",
    "    ],\n",
    "    \"month\": [\n",
    "        \"01\", \"02\", \"03\",\n",
    "        \"04\", \"05\", \"06\",\n",
    "        \"07\", \"08\", \"09\",\n",
    "        \"10\", \"11\", \"12\"\n",
    "    ],\n",
    "    \"day\": [\n",
    "        \"01\", \"02\", \"03\",\n",
    "        \"04\", \"05\", \"06\",\n",
    "        \"07\", \"08\", \"09\",\n",
    "        \"10\", \"11\", \"12\",\n",
    "        \"13\", \"14\", \"15\",\n",
    "        \"16\", \"17\", \"18\",\n",
    "        \"19\", \"20\", \"21\",\n",
    "        \"22\", \"23\", \"24\",\n",
    "        \"25\", \"26\", \"27\",\n",
    "        \"28\", \"29\", \"30\",\n",
    "        \"31\"\n",
    "    ],                     # Year(s)\n",
    "        'time': ['00:00'],  # Times of interest\n",
    "        'data_format': 'netcdf',                   # Output format\n",
    "        'area': area,            # North, West, South, East (bounding box)\n",
    "        },\n",
    "        data_dir + 'era5_'+variable+'.nc'   # Output file name\n",
    "    )\n",
    "\n",
    "    print(f\"{variable} download completed!\")"
   ]
  },
  {
   "cell_type": "code",
   "execution_count": null,
   "id": "1236c6e6-3347-4b55-8ea7-db637bb6bbf1",
   "metadata": {},
   "outputs": [],
   "source": [
    "# 10 or 100 for wind?"
   ]
  },
  {
   "cell_type": "code",
   "execution_count": null,
   "id": "6dd3f4c6-7dce-4b98-a5e4-928cd3ff9cb8",
   "metadata": {},
   "outputs": [],
   "source": [
    "pressure_level_vars = [\n",
    "    'temperature',\n",
    "    'temperature',           # For T850, T500\n",
    "    'specific_humidity',     # For Q925, Q700, Q600, Q500\n",
    "    'specific_humidity', \n",
    "    'specific_humidity', \n",
    "    'specific_humidity', \n",
    "    'relative_humidity',     # For R500, R300\n",
    "    'relative_humidity',        \n",
    "    '10m_u_component_of_wind', \n",
    "    '10m_v_component_of_wind', \n",
    "    '10m_u_component_of_wind', \n",
    "    '10m_v_component_of_wind', \n",
    "]\n",
    "\n",
    "# Corresponding pressure levels\n",
    "pressure_levels = ['850', '500', '925', '700', '600', '500', '500', '300', '600', '925','600', '925']  # Adjust as needed\n"
   ]
  },
  {
   "cell_type": "code",
   "execution_count": null,
   "id": "51031ae1-7654-45ea-887e-62c87df58c2b",
   "metadata": {},
   "outputs": [],
   "source": [
    "for ix, variable in enumerate(pressure_level_vars):\n",
    "    area = [20, -27, -2, 37]\n",
    "    c.retrieve(\n",
    "        'reanalysis-era5-pressure-levels',\n",
    "        {\n",
    "            'product_type': 'reanalysis',\n",
    "            'variable': [variable],\n",
    "            'pressure_level': pressure_levels[ix],\n",
    "                    \"year\": [\n",
    "        \"2000\", \"2001\", \"2002\",\n",
    "        \"2003\", \"2004\", \"2005\",\n",
    "        \"2006\", \"2007\", \"2008\",\n",
    "        \"2009\", \"2010\", \"2011\",\n",
    "        \"2012\", \"2013\", \"2014\",\n",
    "        \"2015\", \"2016\", \"2017\",\n",
    "        \"2018\", \"2019\"\n",
    "    ],\n",
    "    \"month\": [\n",
    "        \"01\", \"02\", \"03\",\n",
    "        \"04\", \"05\", \"06\",\n",
    "        \"07\", \"08\", \"09\",\n",
    "        \"10\", \"11\", \"12\"\n",
    "    ],\n",
    "    \"day\": [\n",
    "        \"01\", \"02\", \"03\",\n",
    "        \"04\", \"05\", \"06\",\n",
    "        \"07\", \"08\", \"09\",\n",
    "        \"10\", \"11\", \"12\",\n",
    "        \"13\", \"14\", \"15\",\n",
    "        \"16\", \"17\", \"18\",\n",
    "        \"19\", \"20\", \"21\",\n",
    "        \"22\", \"23\", \"24\",\n",
    "        \"25\", \"26\", \"27\",\n",
    "        \"28\", \"29\", \"30\",\n",
    "        \"31\"\n",
    "    ],   \n",
    "            'time': ['00:00'],\n",
    "            \"data_format\": \"netcdf\",\n",
    "            'area': area,  \n",
    "        },\n",
    "        'era5_'+variable+'_' + pressure_levels[ix] + '.nc'   # Output file name\n",
    "    )\n"
   ]
  },
  {
   "cell_type": "code",
   "execution_count": null,
   "id": "fafe1bf8-1c35-4c0c-9037-b3915572e3a9",
   "metadata": {},
   "outputs": [],
   "source": [
    "# Download global relative humidity 700 hPa to compute streamfunction"
   ]
  },
  {
   "cell_type": "code",
   "execution_count": null,
   "id": "0bf760ce-5f7b-4898-8dbb-c81c283e8ffd",
   "metadata": {},
   "outputs": [],
   "source": [
    "variable = 'relative_humidity'\n",
    "pl = '700'\n",
    "c.retrieve(\n",
    "        'reanalysis-era5-pressure-levels',\n",
    "        {\n",
    "            'product_type': 'reanalysis',\n",
    "            'variable': [variable],\n",
    "            'pressure_level': pl,\n",
    "                    \"year\": [\n",
    "        \"2000\", \"2001\", \"2002\",\n",
    "        \"2003\", \"2004\", \"2005\",\n",
    "        \"2006\", \"2007\", \"2008\",\n",
    "        \"2009\", \"2010\", \"2011\",\n",
    "        \"2012\", \"2013\", \"2014\",\n",
    "        \"2015\", \"2016\", \"2017\",\n",
    "        \"2018\", \"2019\"\n",
    "    ],\n",
    "    \"month\": [\n",
    "        \"01\", \"02\", \"03\",\n",
    "        \"04\", \"05\", \"06\",\n",
    "        \"07\", \"08\", \"09\",\n",
    "        \"10\", \"11\", \"12\"\n",
    "    ],\n",
    "    \"day\": [\n",
    "        \"01\", \"02\", \"03\",\n",
    "        \"04\", \"05\", \"06\",\n",
    "        \"07\", \"08\", \"09\",\n",
    "        \"10\", \"11\", \"12\",\n",
    "        \"13\", \"14\", \"15\",\n",
    "        \"16\", \"17\", \"18\",\n",
    "        \"19\", \"20\", \"21\",\n",
    "        \"22\", \"23\", \"24\",\n",
    "        \"25\", \"26\", \"27\",\n",
    "        \"28\", \"29\", \"30\",\n",
    "        \"31\"\n",
    "    ],   \n",
    "            'time': ['00:00'],\n",
    "            \"data_format\": \"netcdf\", \n",
    "        },\n",
    "        'era5_'+variable+'_700.nc'   # Output file name\n",
    "    )"
   ]
  },
  {
   "cell_type": "code",
   "execution_count": null,
   "id": "f6153a8d-eba1-4938-b342-95e37a95b2d0",
   "metadata": {},
   "outputs": [],
   "source": []
  }
 ],
 "metadata": {
  "kernelspec": {
   "display_name": "py38",
   "language": "python",
   "name": "py38"
  },
  "language_info": {
   "codemirror_mode": {
    "name": "ipython",
    "version": 3
   },
   "file_extension": ".py",
   "mimetype": "text/x-python",
   "name": "python",
   "nbconvert_exporter": "python",
   "pygments_lexer": "ipython3",
   "version": "3.8.5"
  }
 },
 "nbformat": 4,
 "nbformat_minor": 5
}
