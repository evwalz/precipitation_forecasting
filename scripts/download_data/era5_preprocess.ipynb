{
 "cells": [
  {
   "cell_type": "code",
   "execution_count": 1,
   "id": "70f7a469-108a-4de1-84f2-c6c82ce3de00",
   "metadata": {},
   "outputs": [],
   "source": [
    "import numpy as np\n",
    "import xarray as xr\n",
    "import pandas as pd\n",
    "from cdo import Cdo\n",
    "import subprocess\n",
    "from helpers import *"
   ]
  },
  {
   "cell_type": "code",
   "execution_count": 3,
   "id": "cfd4df9e-71fa-414e-89c8-ba2ce7c72762",
   "metadata": {},
   "outputs": [],
   "source": [
    "data_dir = '../../precip_data/era5_data/'\n",
    "data_save = '../../precip_data/predictors/'\n",
    "target_grid_file = 'targetgrid.txt'"
   ]
  },
  {
   "cell_type": "code",
   "execution_count": 5,
   "id": "8bff69dc-c375-461c-805f-8594b543c47d",
   "metadata": {},
   "outputs": [],
   "source": [
    "for variable in [ 'total_column_water_vapour', 'total_column_cloud_liquid_water','total_cloud_cover']:\n",
    "    input_file = data_dir + 'era5_'+variable+'.nc'\n",
    "    output_file = data_dir + 'era5_'+variable+'_regrid.nc'\n",
    "    con_grid(input_file, output_file, target_grid_file)  "
   ]
  },
  {
   "cell_type": "code",
   "execution_count": 4,
   "id": "b35e1e60-38ed-4607-8453-5b26aff37367",
   "metadata": {},
   "outputs": [],
   "source": [
    "variables = ['k_index',                      \n",
    "             '2m_temperature',\n",
    "             '2m_dewpoint_temperature', \n",
    "             'total_column_water_vapour', \n",
    "             'total_column_cloud_liquid_water', \n",
    "             'total_cloud_cover',\n",
    "             'vertically_integrated_moisture_divergence', \n",
    "             'convective_available_potential_energy',  \n",
    "             'convective_inhibition', \n",
    "             'shear', \n",
    "             'pressure_tendency', \n",
    "             #'stream',\n",
    "             'temperature_500',\n",
    "             'temperature_850',           \n",
    "             'specific_humidity_500',    \n",
    "             'specific_humidity_600', \n",
    "             'specific_humidity_700', \n",
    "             'specific_humidity_925', \n",
    "             'relative_humidity_300',     \n",
    "             'relative_humidity_500',        \n",
    "            ]"
   ]
  },
  {
   "cell_type": "code",
   "execution_count": null,
   "id": "71d64a8e-30d4-490e-8bae-4ad68f486c76",
   "metadata": {},
   "outputs": [],
   "source": [
    "train_t = pd.date_range(start='12/02/2000T06', end='12/01/2018T06')\n",
    "test_t = pd.date_range(start='12/02/2018T06', end='12/01/2019T06')\n",
    "train_time = train_t - pd.Timedelta(hours=30)\n",
    "test_time = test_t - pd.Timedelta(hours=30)\n",
    "\n",
    "for variable in variables:\n",
    "    if variable in ['total_column_water_vapor', 'total_column_cloud_liquid_water', 'total_cloud_cover']:\n",
    "        data = xr.open_dataset(data_dir + 'era5_'+variable+'_regrid.nc')\n",
    "    elif variable == 'pressure_tendency':\n",
    "        data = get_pressure_tendency(data_dir)\n",
    "    elif variable == 'shear':\n",
    "        data = get_shear(data_dir)\n",
    "    elif variable == 'stream':\n",
    "        data = get_stream(data_dir)\n",
    "    elif variable == 'vertically_integrated_moisture_divergence':\n",
    "        data = accum_vimd(data_dir)\n",
    "    else:\n",
    "        data = xr.open_dataset(data_dir + 'era5_'+variable+'.nc')\n",
    "        # select 1x1\n",
    "        data = sel_grid(data)\n",
    "\n",
    "    if variable in ['temperature_500','temperature_850','specific_humidity_500', 'specific_humidity_600', 'specific_humidity_700', \n",
    "             'specific_humidity_925',  'relative_humidity_300', 'relative_humidity_500']:\n",
    "        data = data.squeeze()\n",
    "        data = data.drop_vars(['number', 'expver'])\n",
    "\n",
    "    if variable == 'convective_inhibition':\n",
    "        data = data.fillna(0)\n",
    "    \n",
    "\n",
    "    data_train = data.sel(valid_time = train_time)\n",
    "    data_test = data.sel(valid_time = test_time)\n",
    "\n",
    "    var_name = get_name(variable)\n",
    "\n",
    "    data_train.to_netcdf(data_save + 'train/'+var_name+'_2000_2018.nc')\n",
    "    data_test.to_netcdf(data_save + 'test/'+var_name+'_2019.nc')"
   ]
  }
 ],
 "metadata": {
  "kernelspec": {
   "display_name": "py38",
   "language": "python",
   "name": "py38"
  },
  "language_info": {
   "codemirror_mode": {
    "name": "ipython",
    "version": 3
   },
   "file_extension": ".py",
   "mimetype": "text/x-python",
   "name": "python",
   "nbconvert_exporter": "python",
   "pygments_lexer": "ipython3",
   "version": "3.8.5"
  }
 },
 "nbformat": 4,
 "nbformat_minor": 5
}
