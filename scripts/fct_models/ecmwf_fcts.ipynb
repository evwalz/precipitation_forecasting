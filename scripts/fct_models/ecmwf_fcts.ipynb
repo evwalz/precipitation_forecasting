{
 "cells": [
  {
   "cell_type": "code",
   "execution_count": 1,
   "id": "21612b04-1855-4b45-8454-736a507d6077",
   "metadata": {},
   "outputs": [],
   "source": [
    "import xarray as xr\n",
    "import numpy as np\n",
    "import pandas as pd\n",
    "from helpers import *\n",
    "from isodisreg import idr\n",
    "import isodisreg\n",
    "import properscoring as ps"
   ]
  },
  {
   "cell_type": "code",
   "execution_count": 2,
   "id": "27f6dab7-4ee6-45bb-9b5c-4dc5a9baf189",
   "metadata": {},
   "outputs": [],
   "source": [
    "data_dir = \"../precip_data/\"\n",
    "data_dir = '/Volumes/My Passport for Mac/cnn/data_update/with_precip/precip_data'\n",
    "season = 'JAS'"
   ]
  },
  {
   "cell_type": "code",
   "execution_count": 3,
   "id": "2df1769e-46af-4b79-90f7-ed06efc0c0a4",
   "metadata": {},
   "outputs": [],
   "source": [
    "data_save = data_dir + 'results/'\n",
    "data_save2 = data_dir + '/results/full_models/'\n",
    "lsm = np.loadtxt(data_dir  + \"/lsm.txt\")"
   ]
  },
  {
   "cell_type": "code",
   "execution_count": 4,
   "id": "fa5c2c57-885b-4ba2-a6ef-1c9dc2e22af6",
   "metadata": {},
   "outputs": [],
   "source": [
    "save_full = False"
   ]
  },
  {
   "cell_type": "markdown",
   "id": "3c534ac3-2cde-4f27-8f83-ab6e8a46fc63",
   "metadata": {},
   "source": [
    "# HRES"
   ]
  },
  {
   "cell_type": "code",
   "execution_count": 6,
   "id": "343dedc0-911b-4e01-9d42-dac7a89efaea",
   "metadata": {},
   "outputs": [],
   "source": [
    "hres_data =  xr.open_dataset(data_dir + '/forecasts/hres_fct/HRES24_multi1000_precip_init00_66_reconcut_years_2001_2019.nc')"
   ]
  },
  {
   "cell_type": "code",
   "execution_count": 5,
   "id": "c36ad907-db56-4a52-a537-9b2d6214ebc4",
   "metadata": {},
   "outputs": [
    {
     "name": "stdout",
     "output_type": "stream",
     "text": [
      "0\n",
      "1\n",
      "2\n",
      "3\n",
      "4\n",
      "5\n",
      "6\n",
      "7\n",
      "8\n"
     ]
    }
   ],
   "source": [
    "folds = np.arange(9)\n",
    "crps_fold = np.zeros(len(folds))\n",
    "bs_fold = np.zeros(len(folds))\n",
    "for fold in folds:\n",
    "    print(fold)\n",
    "    \n",
    "    ytrain = load_obs(data_dir, fold, mode = \"train\")\n",
    "    dim_train = ytrain.shape[0]\n",
    "    \n",
    "    if fold == 8:\n",
    "        yval = load_obs(data_dir, fold, mode = \"test\")\n",
    "    else:\n",
    "        yval = load_obs(data_dir, fold, mode = \"val\")\n",
    "    \n",
    "    year = fold +11\n",
    "    #date_train = pd.date_range(start='04/02/2001T06', end ='12/01/20'+str(year-1)+'T06') - pd.Timedelta(hours = 6)\n",
    "\n",
    "    date_train, date_test = hres_season_time(season, year)\n",
    "    hres_data_train = hres_data.sel(time = date_train)\n",
    "    hres_data_test = hres_data.sel(time = date_test)\n",
    "    \n",
    "    crps_cv = np.zeros((19, 61))\n",
    "    bs_cv = np.zeros((19, 61))\n",
    "\n",
    "    year_dim = yval.shape[0]\n",
    "    ix0, ix1 = sel_season_indx(season, year_dim)\n",
    "\n",
    "    if save_full:\n",
    "        model_bs = xr.DataArray(\n",
    "               np.random.rand(19, 61),\n",
    "               coords=[np.arange(19) ,np.arange(-25, 35.5) ],\n",
    "               dims=[\"lat\", \"lon\"],\n",
    "               name='var'\n",
    "            )\n",
    "        model_crps = xr.DataArray(\n",
    "               np.random.rand(19, 61),\n",
    "               coords=[np.arange(19) ,np.arange(-25, 35.5) ],\n",
    "               dims=[\"lat\", \"lon\"],\n",
    "               name='var'\n",
    "            )\n",
    "\n",
    "    for lat in range(19):\n",
    "        for lon in np.arange(-25, 35.5):\n",
    "            i = int(lat)\n",
    "            j = int(lon + 25)\n",
    "            if lsm[i, j] != 0:\n",
    "                train_hres = hres_data_train.sel(lat = lat, lon = lon).lsp.values\n",
    "                val_hres = hres_data_test.sel(lat = lat, lon = lon).lsp.values\n",
    "                train_ix0 = dim_train - len(train_hres)\n",
    "                \n",
    "                idr_output = idr(ytrain[train_ix0:, i, j], pd.DataFrame({'fore': train_hres}, columns = ['fore']))\n",
    "                pred_idr = idr_output.predict(pd.DataFrame({'fore': val_hres}, columns = ['fore']))\n",
    "                \n",
    "                crps_cv[i,j] =  np.mean(pred_idr.crps(yval[ix0:ix1, i, j]))\n",
    "                bs_cv[i,j] = np.mean(pred_idr.bscore(y = yval[ix0:ix1, i, j],thresholds = 0.2)) \n",
    "            else:\n",
    "                crps_cv[i,j] = np.nan\n",
    "                bs_cv[i,j] = np.nan\n",
    "\n",
    "    bs_fold[fold] = np.nanmean(bs_cv)\n",
    "    crps_fold[fold] = np.nanmean(crps_cv)\n",
    "\n",
    "    if save_full:\n",
    "        model_bs[:, :] = bs_cv\n",
    "        model_bs.to_netcdf(data_save2 + 'hres_bs_'+ season + '_' + str(fold) +'.nc')\n",
    "        model_crps[:, :] = crps_cv\n",
    "        model_crps.to_netcdf(data_save2 +  'hres_crps_' + season + '_' + str(fold) +'.nc')\n",
    "    \n",
    "np.savetxt(data_save +  'hres_crps_'+   season + '.txt', crps_fold)\n",
    "np.savetxt(data_save +  'hres_bs_'+ season + '.txt', bs_fold)"
   ]
  },
  {
   "cell_type": "markdown",
   "id": "7b8080ae-36c0-439d-a602-2fff85082317",
   "metadata": {},
   "source": [
    "# ECMWF ensemble"
   ]
  },
  {
   "cell_type": "code",
   "execution_count": 47,
   "id": "7ca5a7fe-561e-46b9-b345-dcb3038b8d03",
   "metadata": {},
   "outputs": [
    {
     "name": "stdout",
     "output_type": "stream",
     "text": [
      "0\n",
      "1\n",
      "2\n",
      "3\n",
      "4\n",
      "5\n",
      "6\n",
      "7\n",
      "8\n"
     ]
    }
   ],
   "source": [
    "ecmwf_data_dir = data_dir + '/forecasts/ensemble_fct/'\n",
    "folds = np.arange(9)\n",
    "bs_fold = np.zeros(len(folds))\n",
    "crps_fold = np.zeros(len(folds))\n",
    "\n",
    "for fold in folds:\n",
    "    print(fold)\n",
    "\n",
    "    if fold == 8:\n",
    "        yval = load_obs(data_dir, fold, mode = \"test\")\n",
    "    else:\n",
    "        yval = load_obs(data_dir, fold, mode = \"val\")\n",
    "    \n",
    "    year = fold +11\n",
    "\n",
    "    crps_raw_cv = np.zeros((19, 61))\n",
    "    bs_raw_cv = np.zeros((19, 61))\n",
    "\n",
    "    year_dim = yval.shape[0]\n",
    "    ix0, ix1 = sel_season_indx(season, year_dim)\n",
    "\n",
    "    ens = xr.open_dataset(ecmwf_data_dir + 'ens_'+str(fold)+'.nc')\n",
    "\n",
    "    if save_full:\n",
    "        model_bs = xr.DataArray(\n",
    "               np.random.rand(19, 61),\n",
    "               coords=[np.arange(19) ,np.arange(-25, 35.5) ],\n",
    "               dims=[\"lat\", \"lon\"],\n",
    "               name='var'\n",
    "            )\n",
    "        model_crps = xr.DataArray(\n",
    "               np.random.rand(19, 61),\n",
    "               coords=[np.arange(19) ,np.arange(-25, 35.5) ],\n",
    "               dims=[\"lat\", \"lon\"],\n",
    "               name='var'\n",
    "            )\n",
    "\n",
    "    for lat in range(19):\n",
    "        for lon in np.arange(-25, 35.5):\n",
    "            i = int(lat)\n",
    "            j = int(lon + 25)\n",
    "            if lsm[i, j] != 0:\n",
    "                ens_test = ens.sel(lat = lat, lon = lon)['var'].values[ix0:ix1, :]\n",
    "                pop_test = np.mean(ens_test>0.2, axis = 1)\n",
    "\n",
    "                ygrid = yval[ix0:ix1, i, j]\n",
    "                yval_bin = ygrid > 0.2\n",
    "                \n",
    "                bs_cv[i,j] = np.mean((yval_bin - pop_test)**2)\n",
    "                crps_cv[i,j] = np.mean(ps.crps_ensemble(ygrid, ens_test))\n",
    "            else:\n",
    "                bs_cv[i,j] = np.nan\n",
    "                crps_cv[i,j] = np.nan\n",
    "\n",
    "    bs_fold[fold] = np.nanmean(bs_cv)\n",
    "    crps_fold[fold] = np.nanmean(crps_cv)\n",
    "\n",
    "    if save_full:\n",
    "        model_bs[:, :] = bs_cv\n",
    "        model_bs.to_netcdf(data_save2 + 'ecmwf_bs_'+ season + '_' + str(fold) +'.nc')\n",
    "        model_crps[:, :] = crps_cv\n",
    "        model_crps.to_netcdf(data_save2 +  'ecmwf_crps_' + season + '_' + str(fold) +'.nc')\n",
    "    \n",
    "np.savetxt(data_save +  'ecmwf_bs_'+   season + '.txt', bs_fold)\n",
    "np.savetxt(data_save +  'ecmwf_crps_'+ season + '.txt', crps_fold)"
   ]
  },
  {
   "cell_type": "markdown",
   "id": "b46cdeee-f4c2-4a7a-b415-37225fc960e1",
   "metadata": {},
   "source": [
    "# ECMWF pp"
   ]
  },
  {
   "cell_type": "code",
   "execution_count": 5,
   "id": "aa398f57-31e2-409b-8e1b-d4edf1e5d09c",
   "metadata": {},
   "outputs": [],
   "source": [
    "pop = xr.open_dataset(data_dir + '/forecasts/ensemble_fct/ens24_pop_reconcut_invertlat_mm_2006_2019.nc')"
   ]
  },
  {
   "cell_type": "code",
   "execution_count": 6,
   "id": "c3bfaff4-0317-4d43-bfcc-e40d3a550afc",
   "metadata": {},
   "outputs": [
    {
     "name": "stdout",
     "output_type": "stream",
     "text": [
      "0\n",
      "1\n",
      "2\n",
      "3\n",
      "4\n",
      "5\n",
      "6\n",
      "7\n",
      "8\n"
     ]
    }
   ],
   "source": [
    "folds = np.arange(9)\n",
    "bs_fold = np.zeros(len(folds))\n",
    "niamey = np.zeros(len(folds))\n",
    "obs_list = list()\n",
    "pop_list = list()\n",
    "for fold in folds:\n",
    "    print(fold)\n",
    "    ytrain = load_obs(data_dir, fold, mode = \"train\")\n",
    "    dim_train = ytrain.shape[0]\n",
    "    \n",
    "    if fold == 8:\n",
    "        yval = load_obs(data_dir, fold, mode = \"test\")\n",
    "    else:\n",
    "        yval = load_obs(data_dir, fold, mode = \"val\")\n",
    "    \n",
    "    year = fold +11\n",
    "\n",
    "    date_train, date_test = ecmwf_season_time(season, year)\n",
    "\n",
    "    pop_train = pop.sel(time = date_train)\n",
    "    pop_test = pop.sel(time = date_test)\n",
    "\n",
    "    dim_pop = pop_train.dims['time']\n",
    "    new_dim = dim_train - dim_pop\n",
    "    \n",
    "    bs_cv = np.zeros((19, 61))\n",
    "\n",
    "    year_dim = yval.shape[0]\n",
    "    ix0, ix1 = sel_season_indx(season, year_dim)\n",
    "\n",
    "    if save_full:\n",
    "        model_bs = xr.DataArray(\n",
    "               np.random.rand(19, 61),\n",
    "               coords=[np.arange(19) ,np.arange(-25, 35.5) ],\n",
    "               dims=[\"lat\", \"lon\"],\n",
    "               name='var'\n",
    "            )\n",
    "    \n",
    "    for lat in range(19):\n",
    "        for lon in np.arange(-25, 35.5):\n",
    "            i = int(lat)\n",
    "            j = int(lon + 25)\n",
    "            if lsm[i, j] != 0:\n",
    "        \n",
    "                probs_train_grid = pop_train.sel(lat = lat, lon = lon).tp.values\n",
    "                probs_test_grid = pop_test.sel(lat = lat, lon = lon).tp.values\n",
    "                \n",
    "                obs_bin_train = ytrain[new_dim:, i, j] > 0.2\n",
    "                obs_bin_test = yval[ix0:ix1, i, j] > 0.2\n",
    "\n",
    "                fit = idr(y = 1*obs_bin_train, X = pd.DataFrame(probs_train_grid), progress = False)\n",
    "                preds = fit.predict(pd.DataFrame(probs_test_grid))\n",
    "                bs_cv[i, j] = np.mean(preds.bscore(y = 1*obs_bin_test, thresholds = 0.2))\n",
    "                if lat == 13 and lon == 27:\n",
    "                    obs_list.append(1*obs_bin_test)\n",
    "                    pop_list.append(1-preds.cdf(0.2))\n",
    "            else:\n",
    "                bs_cv[i,j] = np.nan\n",
    "\n",
    "    niamey[fold] = bs_cv[13, 27]\n",
    "                \n",
    "    bs_fold[fold] = np.nanmean(bs_cv)\n",
    "    if save_full:\n",
    "        model_bs[:, :] = bs_cv\n",
    "        model_bs.to_netcdf(data_save2 + 'ecmwf_pp_bs_'+ season + '_' + str(fold) +'.nc')\n",
    "#np.savetxt(data_save +  'ecmwf_pp_bs_'+   season + '.txt', bs_fold)"
   ]
  },
  {
   "cell_type": "code",
   "execution_count": null,
   "id": "7d380d68-1013-44b6-b228-34afcc8b7f84",
   "metadata": {},
   "outputs": [],
   "source": []
  }
 ],
 "metadata": {
  "kernelspec": {
   "display_name": "py38",
   "language": "python",
   "name": "py38"
  },
  "language_info": {
   "codemirror_mode": {
    "name": "ipython",
    "version": 3
   },
   "file_extension": ".py",
   "mimetype": "text/x-python",
   "name": "python",
   "nbconvert_exporter": "python",
   "pygments_lexer": "ipython3",
   "version": "3.8.5"
  }
 },
 "nbformat": 4,
 "nbformat_minor": 5
}
