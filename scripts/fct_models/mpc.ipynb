{
 "cells": [
  {
   "cell_type": "code",
   "execution_count": 1,
   "id": "2e3dd1ed-9148-4a26-bb23-83e28927283b",
   "metadata": {},
   "outputs": [],
   "source": [
    "import numpy as np\n",
    "import pickle\n",
    "from helpers import * \n",
    "import properscoring as ps"
   ]
  },
  {
   "cell_type": "code",
   "execution_count": 2,
   "id": "97c12e01-a1ac-42a2-9e12-32717659a436",
   "metadata": {},
   "outputs": [],
   "source": [
    "season = 'JAS'\n",
    "data_dir = \"../../precip_data\"\n",
    "save_full = True"
   ]
  },
  {
   "cell_type": "code",
   "execution_count": 3,
   "id": "32caa94f-d8dc-4c00-98d6-7adb11da6377",
   "metadata": {},
   "outputs": [
    {
     "name": "stdout",
     "output_type": "stream",
     "text": [
      "0\n",
      "1\n",
      "2\n",
      "3\n",
      "4\n",
      "5\n",
      "6\n",
      "7\n",
      "8\n"
     ]
    }
   ],
   "source": [
    "data_save = data_dir + '/results/'\n",
    "data_save2 = data_dir + '/results/full_models/'\n",
    "folds = np.arange(9)\n",
    "lsm = np.loadtxt(data_dir  + \"/lsm.txt\")\n",
    "\n",
    "crps_fold = np.zeros(len(folds))\n",
    "bs_fold = np.zeros(len(folds))\n",
    "for fold in folds:\n",
    "    print(fold)\n",
    "    crps_cv = np.zeros((19, 61))\n",
    "    bs_cv = np.zeros((19, 61))\n",
    "    ytrain, time_train = load_obs_time(data_dir, fold, mode = \"train\")\n",
    "    if fold == 8:\n",
    "        yval, time_test = load_obs_time(data_dir, fold, mode = \"test\")\n",
    "    else:\n",
    "        yval, time_test = load_obs_time(data_dir, fold, mode = \"val\")\n",
    "\n",
    "    # array with time x lat x lon\n",
    "    year_dim = yval.shape[0]\n",
    "    ix0, ix1 = sel_season_indx(season, year_dim)\n",
    "    time_test_season = time_test[ix0:ix1]\n",
    "    unique_tts = np.unique(time_test_season)\n",
    "    if save_full:\n",
    "        model_bs = xr.DataArray(\n",
    "               np.random.rand(19, 61),\n",
    "               coords=[np.arange(19) ,np.arange(-25, 35.5) ],\n",
    "               dims=[\"lat\", \"lon\"],\n",
    "               name='var'\n",
    "            )\n",
    "        model_crps = xr.DataArray(\n",
    "               np.random.rand(19, 61),\n",
    "               coords=[np.arange(19) ,np.arange(-25, 35.5) ],\n",
    "               dims=[\"lat\", \"lon\"],\n",
    "               name='var'\n",
    "            )\n",
    "            \n",
    "    for i in range(19):\n",
    "        for j in range(61):\n",
    "            if lsm[i, j] != 0:\n",
    "                ytrain_grid = ytrain[:, i, j] \n",
    "                yval_grid = yval[ix0:ix1, i, j]\n",
    "                crps_ens = list()\n",
    "                bs_ens = list()\n",
    "                for val in unique_tts:\n",
    "                    ix_month = np.where(val == time_train)[0]\n",
    "                    month_ens = ytrain_grid[ix_month]\n",
    "                    month_prob = np.mean(month_ens > 0.2)\n",
    "                    yval_grid_month = yval_grid[val == time_test_season]\n",
    "                    ens_dim = len(yval_grid_month)    \n",
    "                    ens_mat = np.tile(month_ens, (ens_dim, 1))\n",
    "                    crps_ens.append(ps.crps_ensemble(yval_grid_month, ens_mat))\n",
    "                    yval_grid_month_bin = yval_grid_month > 0.2\n",
    "                    ens_prob = np.repeat(month_prob, ens_dim)\n",
    "                    bs_ens.append(np.square(yval_grid_month_bin - ens_prob))\n",
    "\n",
    "                crps_cv[i,j] = np.mean(np.concatenate(crps_ens))\n",
    "                bs_cv[i, j] = np.mean(np.concatenate(bs_ens))\n",
    "            else:\n",
    "                crps_cv[i,j] = np.nan\n",
    "                bs_cv[i, j] = np.nan\n",
    "            \n",
    "    crps_fold[fold] = np.nanmean(crps_cv)\n",
    "    bs_fold[fold] = np.nanmean(bs_cv)\n",
    "\n",
    "    if save_full:\n",
    "        model_bs[:, :] = bs_cv\n",
    "        model_bs.to_netcdf(data_save2 +  'mpc_bs_'+ season + '_' + str(fold) +'.nc')\n",
    "        model_crps[:, :] = crps_cv\n",
    "        model_crps.to_netcdf(data_save2  + 'mpc_crps_'+ season + '_' + str(fold) +'.nc')\n",
    "        \n",
    "np.savetxt(data_save  + 'mpc_crps_'+ season +  '.txt', crps_fold)\n",
    "np.savetxt(data_save  + 'mpc_bs_'+ season +  '.txt', bs_fold)"
   ]
  },
  {
   "cell_type": "code",
   "execution_count": 3,
   "id": "cbfe1807-ac24-44a2-89f3-cca7ad8243cb",
   "metadata": {},
   "outputs": [
    {
     "data": {
      "text/plain": [
       "array([0.1671104 , 0.15877314, 0.16606004, 0.16796413, 0.1740587 ,\n",
       "       0.15887017, 0.16561248, 0.16065015, 0.1536647 ])"
      ]
     },
     "execution_count": 3,
     "metadata": {},
     "output_type": "execute_result"
    }
   ],
   "source": [
    "bs_fold"
   ]
  },
  {
   "cell_type": "code",
   "execution_count": 6,
   "id": "d46293d3-1dc0-404b-baca-4b0a18b2507d",
   "metadata": {},
   "outputs": [
    {
     "data": {
      "text/plain": [
       "array([3.35477721, 3.54058059, 3.09141036, 3.30758144, 3.14746003,\n",
       "       3.33223891, 3.24978596, 3.26668665, 3.31891571])"
      ]
     },
     "execution_count": 6,
     "metadata": {},
     "output_type": "execute_result"
    }
   ],
   "source": [
    "crps_fold"
   ]
  },
  {
   "cell_type": "code",
   "execution_count": null,
   "id": "fb476591-fa59-48a5-80f4-3520b0e285fa",
   "metadata": {},
   "outputs": [],
   "source": []
  }
 ],
 "metadata": {
  "kernelspec": {
   "display_name": "py38",
   "language": "python",
   "name": "py38"
  },
  "language_info": {
   "codemirror_mode": {
    "name": "ipython",
    "version": 3
   },
   "file_extension": ".py",
   "mimetype": "text/x-python",
   "name": "python",
   "nbconvert_exporter": "python",
   "pygments_lexer": "ipython3",
   "version": "3.8.5"
  }
 },
 "nbformat": 4,
 "nbformat_minor": 5
}
